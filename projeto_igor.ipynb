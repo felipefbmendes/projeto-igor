{
 "cells": [
  {
   "cell_type": "markdown",
   "id": "5d3b14e1-8eb4-418a-b848-79f3f1e9e48f",
   "metadata": {},
   "source": [
    "### Imports"
   ]
  },
  {
   "cell_type": "code",
   "execution_count": 80,
   "id": "c8075a67-5d44-4187-a551-8140a09ee3fe",
   "metadata": {},
   "outputs": [],
   "source": [
    "import random\n",
    "import string\n",
    "import pandas as pd\n",
    "import numpy as np\n",
    "import pickle\n",
    "import json\n",
    "import time\n",
    "import math\n",
    "from lightfm import LightFM\n",
    "from lightfm.evaluation import precision_at_k, recall_at_k\n",
    "import scipy\n",
    "from scipy.sparse import coo_matrix, eye, hstack, lil_matrix\n",
    "from skopt import forest_minimize"
   ]
  },
  {
   "cell_type": "markdown",
   "id": "5fe9c632-e547-42e5-95c0-66e3d919b78c",
   "metadata": {
    "tags": []
   },
   "source": [
    "### Creating fake data\n",
    "### Run it only one time and then read the created df from picke"
   ]
  },
  {
   "cell_type": "code",
   "execution_count": 50,
   "id": "1f394b6a-343b-4cf3-8001-af55fd1f78e7",
   "metadata": {},
   "outputs": [],
   "source": [
    "machines = list(string.ascii_uppercase)"
   ]
  },
  {
   "cell_type": "code",
   "execution_count": 51,
   "id": "4be0672b-c71e-47e2-b145-ea68399ca5d6",
   "metadata": {},
   "outputs": [],
   "source": [
    "risks = ['banana', 'apple', 'orange', 'lemon', 'lime', 'strawberry', 'kiwi', 'peach', 'grape', 'pineapple', 'mango']"
   ]
  },
  {
   "cell_type": "code",
   "execution_count": 52,
   "id": "4a1f4f1d-1efd-49c7-afd7-76b1db3ffe8e",
   "metadata": {},
   "outputs": [],
   "source": [
    "num_risks = len(risks)"
   ]
  },
  {
   "cell_type": "code",
   "execution_count": 99,
   "id": "c09b01db-5467-4369-945f-a4a421016fa9",
   "metadata": {},
   "outputs": [],
   "source": [
    "df = pd.DataFrame(index=range(1, 101))"
   ]
  },
  {
   "cell_type": "code",
   "execution_count": 100,
   "id": "f3af3a28-86e8-4ae7-9844-ec00f4e5a0df",
   "metadata": {},
   "outputs": [],
   "source": [
    "df['operator_id'] = 0"
   ]
  },
  {
   "cell_type": "code",
   "execution_count": 101,
   "id": "7cb4310f-3097-44d2-bf10-e36a85f91ef0",
   "metadata": {},
   "outputs": [
    {
     "data": {
      "text/plain": [
       "(100, 1)"
      ]
     },
     "execution_count": 101,
     "metadata": {},
     "output_type": "execute_result"
    }
   ],
   "source": [
    "df.shape"
   ]
  },
  {
   "cell_type": "code",
   "execution_count": 102,
   "id": "6f2a6c03-40ae-4cd6-8035-74b05dea6263",
   "metadata": {},
   "outputs": [],
   "source": [
    "def get_selected_risks_per_machine():\n",
    "    operator_id = random.choice(range(1, 3001))\n",
    "    num_of_usages = random.choice(range(1, 11))\n",
    "    used_machine = random.choice(machines)\n",
    "    selected_num_of_risks = random.choice(range(1, math.ceil(num_risks/3)))\n",
    "    selected_risks = random.sample(risks, selected_num_of_risks)\n",
    "    return operator_id, used_machine, selected_risks"
   ]
  },
  {
   "cell_type": "code",
   "execution_count": 103,
   "id": "8f59141a-c2e9-4fb0-a3ca-e31604869a7e",
   "metadata": {},
   "outputs": [],
   "source": [
    "df['operator_id'], df['machine'], df['risks'] = zip(*df.apply(lambda row: get_selected_risks_per_machine(), axis=1))"
   ]
  },
  {
   "cell_type": "code",
   "execution_count": 104,
   "id": "6348db7c-2c8b-4502-a5df-2c915619b710",
   "metadata": {},
   "outputs": [
    {
     "data": {
      "text/html": [
       "<div>\n",
       "<style scoped>\n",
       "    .dataframe tbody tr th:only-of-type {\n",
       "        vertical-align: middle;\n",
       "    }\n",
       "\n",
       "    .dataframe tbody tr th {\n",
       "        vertical-align: top;\n",
       "    }\n",
       "\n",
       "    .dataframe thead th {\n",
       "        text-align: right;\n",
       "    }\n",
       "</style>\n",
       "<table border=\"1\" class=\"dataframe\">\n",
       "  <thead>\n",
       "    <tr style=\"text-align: right;\">\n",
       "      <th></th>\n",
       "      <th>operator_id</th>\n",
       "      <th>machine</th>\n",
       "      <th>risks</th>\n",
       "    </tr>\n",
       "  </thead>\n",
       "  <tbody>\n",
       "    <tr>\n",
       "      <th>1</th>\n",
       "      <td>1705</td>\n",
       "      <td>T</td>\n",
       "      <td>[lemon, grape]</td>\n",
       "    </tr>\n",
       "    <tr>\n",
       "      <th>2</th>\n",
       "      <td>1306</td>\n",
       "      <td>O</td>\n",
       "      <td>[peach, mango, orange]</td>\n",
       "    </tr>\n",
       "    <tr>\n",
       "      <th>3</th>\n",
       "      <td>48</td>\n",
       "      <td>L</td>\n",
       "      <td>[kiwi, lemon]</td>\n",
       "    </tr>\n",
       "    <tr>\n",
       "      <th>4</th>\n",
       "      <td>2853</td>\n",
       "      <td>B</td>\n",
       "      <td>[kiwi]</td>\n",
       "    </tr>\n",
       "    <tr>\n",
       "      <th>5</th>\n",
       "      <td>503</td>\n",
       "      <td>Z</td>\n",
       "      <td>[orange, kiwi, grape]</td>\n",
       "    </tr>\n",
       "    <tr>\n",
       "      <th>...</th>\n",
       "      <td>...</td>\n",
       "      <td>...</td>\n",
       "      <td>...</td>\n",
       "    </tr>\n",
       "    <tr>\n",
       "      <th>96</th>\n",
       "      <td>2157</td>\n",
       "      <td>B</td>\n",
       "      <td>[grape]</td>\n",
       "    </tr>\n",
       "    <tr>\n",
       "      <th>97</th>\n",
       "      <td>2374</td>\n",
       "      <td>Z</td>\n",
       "      <td>[pineapple, lemon, mango]</td>\n",
       "    </tr>\n",
       "    <tr>\n",
       "      <th>98</th>\n",
       "      <td>2163</td>\n",
       "      <td>X</td>\n",
       "      <td>[apple]</td>\n",
       "    </tr>\n",
       "    <tr>\n",
       "      <th>99</th>\n",
       "      <td>2142</td>\n",
       "      <td>C</td>\n",
       "      <td>[pineapple, grape]</td>\n",
       "    </tr>\n",
       "    <tr>\n",
       "      <th>100</th>\n",
       "      <td>2490</td>\n",
       "      <td>C</td>\n",
       "      <td>[mango, banana, peach]</td>\n",
       "    </tr>\n",
       "  </tbody>\n",
       "</table>\n",
       "<p>100 rows × 3 columns</p>\n",
       "</div>"
      ],
      "text/plain": [
       "     operator_id machine                      risks\n",
       "1           1705       T             [lemon, grape]\n",
       "2           1306       O     [peach, mango, orange]\n",
       "3             48       L              [kiwi, lemon]\n",
       "4           2853       B                     [kiwi]\n",
       "5            503       Z      [orange, kiwi, grape]\n",
       "..           ...     ...                        ...\n",
       "96          2157       B                    [grape]\n",
       "97          2374       Z  [pineapple, lemon, mango]\n",
       "98          2163       X                    [apple]\n",
       "99          2142       C         [pineapple, grape]\n",
       "100         2490       C     [mango, banana, peach]\n",
       "\n",
       "[100 rows x 3 columns]"
      ]
     },
     "execution_count": 104,
     "metadata": {},
     "output_type": "execute_result"
    }
   ],
   "source": [
    "df"
   ]
  },
  {
   "cell_type": "code",
   "execution_count": 105,
   "id": "4d240d40-dd90-49f4-9363-841042282c05",
   "metadata": {},
   "outputs": [],
   "source": [
    "df.to_csv('risks_machine_data.csv', index=False)"
   ]
  },
  {
   "cell_type": "markdown",
   "id": "e3f6c279-2021-499b-8ee4-2a93f1e8ff18",
   "metadata": {},
   "source": [
    "### Let's suppose that by reading the dataframe from CSV we are reading it from a database"
   ]
  },
  {
   "cell_type": "code",
   "execution_count": 106,
   "id": "d248deee-1af1-4840-b0f6-11c60898788a",
   "metadata": {},
   "outputs": [],
   "source": [
    "df = pd.read_csv('risks_machine_data.csv')"
   ]
  },
  {
   "cell_type": "code",
   "execution_count": 107,
   "id": "fc5687bc-372e-4c5c-8575-3d208c411ee7",
   "metadata": {},
   "outputs": [
    {
     "data": {
      "text/plain": [
       "(100, 3)"
      ]
     },
     "execution_count": 107,
     "metadata": {},
     "output_type": "execute_result"
    }
   ],
   "source": [
    "df.shape"
   ]
  },
  {
   "cell_type": "code",
   "execution_count": 108,
   "id": "81694a20-875c-42c1-b71c-d583daff0c5c",
   "metadata": {},
   "outputs": [
    {
     "data": {
      "text/plain": [
       "Index(['operator_id', 'machine', 'risks'], dtype='object')"
      ]
     },
     "execution_count": 108,
     "metadata": {},
     "output_type": "execute_result"
    }
   ],
   "source": [
    "df.columns"
   ]
  },
  {
   "cell_type": "markdown",
   "id": "5c7fa157-da72-476d-bf2d-90f8ef3d91ac",
   "metadata": {
    "tags": []
   },
   "source": [
    "#### Here machines represent our users, since it is for the machines that we want to find the recommended risks"
   ]
  },
  {
   "cell_type": "code",
   "execution_count": 109,
   "id": "d6fddee1-67f2-467e-a566-f623ef6994d3",
   "metadata": {},
   "outputs": [],
   "source": [
    "new_df = df.drop(columns=['operator_id'])"
   ]
  },
  {
   "cell_type": "code",
   "execution_count": 110,
   "id": "40900fce-5e93-4c27-a26a-d6f5a0187e48",
   "metadata": {},
   "outputs": [
    {
     "data": {
      "text/plain": [
       "\"['lemon', 'grape']\""
      ]
     },
     "execution_count": 110,
     "metadata": {},
     "output_type": "execute_result"
    }
   ],
   "source": [
    "new_df.iloc[0].risks"
   ]
  },
  {
   "cell_type": "code",
   "execution_count": 111,
   "id": "4b15c667-4445-42cd-8588-f84ab113a3a7",
   "metadata": {},
   "outputs": [],
   "source": [
    "new_df['risks'] = new_df['risks'].apply(lambda row: json.loads(row.replace(\"'\", \"\\\"\")))"
   ]
  },
  {
   "cell_type": "code",
   "execution_count": 112,
   "id": "f45e2dde-c060-4ed4-bccf-f7081c99751d",
   "metadata": {},
   "outputs": [],
   "source": [
    "new_df['count'] = 1"
   ]
  },
  {
   "cell_type": "code",
   "execution_count": 113,
   "id": "c95aec37-07c8-4f11-97d3-2b1b46a5389a",
   "metadata": {},
   "outputs": [],
   "source": [
    "new_df = new_df.explode('risks')"
   ]
  },
  {
   "cell_type": "code",
   "execution_count": 114,
   "id": "4957c11f-1a34-49bf-bf3d-ba57a0ba6446",
   "metadata": {},
   "outputs": [],
   "source": [
    "new_df_columns = list(new_df.columns)"
   ]
  },
  {
   "cell_type": "code",
   "execution_count": 115,
   "id": "78b477cb-229f-412a-837c-276f9b20cda0",
   "metadata": {},
   "outputs": [],
   "source": [
    "new_df_columns.remove('count')"
   ]
  },
  {
   "cell_type": "code",
   "execution_count": 116,
   "id": "71f7956d-3e46-4dac-89e2-4545a013be22",
   "metadata": {},
   "outputs": [],
   "source": [
    "new_dff = new_df.groupby(new_df_columns)['count'].sum().reset_index()"
   ]
  },
  {
   "cell_type": "code",
   "execution_count": 117,
   "id": "a2b655a7-3b78-4424-b95c-c170918afa6c",
   "metadata": {},
   "outputs": [
    {
     "data": {
      "text/html": [
       "<div>\n",
       "<style scoped>\n",
       "    .dataframe tbody tr th:only-of-type {\n",
       "        vertical-align: middle;\n",
       "    }\n",
       "\n",
       "    .dataframe tbody tr th {\n",
       "        vertical-align: top;\n",
       "    }\n",
       "\n",
       "    .dataframe thead th {\n",
       "        text-align: right;\n",
       "    }\n",
       "</style>\n",
       "<table border=\"1\" class=\"dataframe\">\n",
       "  <thead>\n",
       "    <tr style=\"text-align: right;\">\n",
       "      <th></th>\n",
       "      <th>machine</th>\n",
       "      <th>risks</th>\n",
       "      <th>count</th>\n",
       "    </tr>\n",
       "  </thead>\n",
       "  <tbody>\n",
       "    <tr>\n",
       "      <th>0</th>\n",
       "      <td>A</td>\n",
       "      <td>apple</td>\n",
       "      <td>1</td>\n",
       "    </tr>\n",
       "    <tr>\n",
       "      <th>1</th>\n",
       "      <td>A</td>\n",
       "      <td>kiwi</td>\n",
       "      <td>2</td>\n",
       "    </tr>\n",
       "    <tr>\n",
       "      <th>2</th>\n",
       "      <td>A</td>\n",
       "      <td>lemon</td>\n",
       "      <td>1</td>\n",
       "    </tr>\n",
       "    <tr>\n",
       "      <th>3</th>\n",
       "      <td>A</td>\n",
       "      <td>lime</td>\n",
       "      <td>1</td>\n",
       "    </tr>\n",
       "    <tr>\n",
       "      <th>4</th>\n",
       "      <td>A</td>\n",
       "      <td>mango</td>\n",
       "      <td>1</td>\n",
       "    </tr>\n",
       "    <tr>\n",
       "      <th>...</th>\n",
       "      <td>...</td>\n",
       "      <td>...</td>\n",
       "      <td>...</td>\n",
       "    </tr>\n",
       "    <tr>\n",
       "      <th>136</th>\n",
       "      <td>Z</td>\n",
       "      <td>lime</td>\n",
       "      <td>1</td>\n",
       "    </tr>\n",
       "    <tr>\n",
       "      <th>137</th>\n",
       "      <td>Z</td>\n",
       "      <td>mango</td>\n",
       "      <td>1</td>\n",
       "    </tr>\n",
       "    <tr>\n",
       "      <th>138</th>\n",
       "      <td>Z</td>\n",
       "      <td>orange</td>\n",
       "      <td>1</td>\n",
       "    </tr>\n",
       "    <tr>\n",
       "      <th>139</th>\n",
       "      <td>Z</td>\n",
       "      <td>peach</td>\n",
       "      <td>3</td>\n",
       "    </tr>\n",
       "    <tr>\n",
       "      <th>140</th>\n",
       "      <td>Z</td>\n",
       "      <td>pineapple</td>\n",
       "      <td>2</td>\n",
       "    </tr>\n",
       "  </tbody>\n",
       "</table>\n",
       "<p>141 rows × 3 columns</p>\n",
       "</div>"
      ],
      "text/plain": [
       "    machine      risks  count\n",
       "0         A      apple      1\n",
       "1         A       kiwi      2\n",
       "2         A      lemon      1\n",
       "3         A       lime      1\n",
       "4         A      mango      1\n",
       "..      ...        ...    ...\n",
       "136       Z       lime      1\n",
       "137       Z      mango      1\n",
       "138       Z     orange      1\n",
       "139       Z      peach      3\n",
       "140       Z  pineapple      2\n",
       "\n",
       "[141 rows x 3 columns]"
      ]
     },
     "execution_count": 117,
     "metadata": {},
     "output_type": "execute_result"
    }
   ],
   "source": [
    "new_dff"
   ]
  },
  {
   "cell_type": "code",
   "execution_count": 118,
   "id": "f46ade82-6766-4518-82f3-7b379cdaec14",
   "metadata": {},
   "outputs": [
    {
     "data": {
      "text/html": [
       "<div>\n",
       "<style scoped>\n",
       "    .dataframe tbody tr th:only-of-type {\n",
       "        vertical-align: middle;\n",
       "    }\n",
       "\n",
       "    .dataframe tbody tr th {\n",
       "        vertical-align: top;\n",
       "    }\n",
       "\n",
       "    .dataframe thead th {\n",
       "        text-align: right;\n",
       "    }\n",
       "</style>\n",
       "<table border=\"1\" class=\"dataframe\">\n",
       "  <thead>\n",
       "    <tr style=\"text-align: right;\">\n",
       "      <th></th>\n",
       "      <th>machine</th>\n",
       "      <th>risks</th>\n",
       "      <th>count</th>\n",
       "    </tr>\n",
       "  </thead>\n",
       "  <tbody>\n",
       "    <tr>\n",
       "      <th>0</th>\n",
       "      <td>A</td>\n",
       "      <td>apple</td>\n",
       "      <td>1</td>\n",
       "    </tr>\n",
       "    <tr>\n",
       "      <th>1</th>\n",
       "      <td>A</td>\n",
       "      <td>kiwi</td>\n",
       "      <td>2</td>\n",
       "    </tr>\n",
       "    <tr>\n",
       "      <th>2</th>\n",
       "      <td>A</td>\n",
       "      <td>lemon</td>\n",
       "      <td>1</td>\n",
       "    </tr>\n",
       "    <tr>\n",
       "      <th>3</th>\n",
       "      <td>A</td>\n",
       "      <td>lime</td>\n",
       "      <td>1</td>\n",
       "    </tr>\n",
       "    <tr>\n",
       "      <th>4</th>\n",
       "      <td>A</td>\n",
       "      <td>mango</td>\n",
       "      <td>1</td>\n",
       "    </tr>\n",
       "    <tr>\n",
       "      <th>5</th>\n",
       "      <td>A</td>\n",
       "      <td>orange</td>\n",
       "      <td>1</td>\n",
       "    </tr>\n",
       "    <tr>\n",
       "      <th>6</th>\n",
       "      <td>A</td>\n",
       "      <td>strawberry</td>\n",
       "      <td>2</td>\n",
       "    </tr>\n",
       "  </tbody>\n",
       "</table>\n",
       "</div>"
      ],
      "text/plain": [
       "  machine       risks  count\n",
       "0       A       apple      1\n",
       "1       A        kiwi      2\n",
       "2       A       lemon      1\n",
       "3       A        lime      1\n",
       "4       A       mango      1\n",
       "5       A      orange      1\n",
       "6       A  strawberry      2"
      ]
     },
     "execution_count": 118,
     "metadata": {},
     "output_type": "execute_result"
    }
   ],
   "source": [
    "new_dff[new_dff.machine == 'A']"
   ]
  },
  {
   "cell_type": "code",
   "execution_count": 119,
   "id": "823172a4-c48c-46d3-b7f3-d5bb7b05c666",
   "metadata": {},
   "outputs": [],
   "source": [
    "machines = list(new_dff['machine'].unique())"
   ]
  },
  {
   "cell_type": "code",
   "execution_count": 120,
   "id": "0ff66340-7a32-459a-af13-4d3ba65e4d6d",
   "metadata": {},
   "outputs": [],
   "source": [
    "risks = list(new_dff['risks'].unique())"
   ]
  },
  {
   "cell_type": "markdown",
   "id": "b1200a79-d991-4925-910b-cde119abf8a5",
   "metadata": {},
   "source": [
    "### Map user (machine) to index, index to user, item (risk) to index and index to item"
   ]
  },
  {
   "cell_type": "code",
   "execution_count": 121,
   "id": "4792c85a-522f-4c8b-a003-69f3046c8f2a",
   "metadata": {},
   "outputs": [],
   "source": [
    "def id_mappings(customer_list, product_list):\n",
    "    customer_to_index_mapping = {}\n",
    "    index_to_customer_mapping = {}\n",
    "    for user_index, user_id in enumerate(customer_list):\n",
    "        customer_to_index_mapping[user_id] = user_index\n",
    "        index_to_customer_mapping[user_index] = user_id\n",
    "        \n",
    "    product_to_index_mapping = {}\n",
    "    index_to_product_mapping = {}\n",
    "    for item_index, item_id in enumerate(product_list):\n",
    "        product_to_index_mapping[item_id] = item_index\n",
    "        index_to_product_mapping[item_index] = item_id      \n",
    "        \n",
    "    return customer_to_index_mapping, index_to_customer_mapping, \\\n",
    "            product_to_index_mapping, index_to_product_mapping"
   ]
  },
  {
   "cell_type": "code",
   "execution_count": 122,
   "id": "5d632148-11ae-4275-9422-3abec5c25ef1",
   "metadata": {},
   "outputs": [],
   "source": [
    "machine_to_index_mapping, index_to_machine_mapping, \\\n",
    "            risk_to_index_mapping, index_to_risk_mapping = id_mappings(machines, risks)"
   ]
  },
  {
   "cell_type": "markdown",
   "id": "0f050e5b-969f-451e-9421-2f0d8bbc8710",
   "metadata": {},
   "source": [
    "### Get interaction and feature matrix"
   ]
  },
  {
   "cell_type": "code",
   "execution_count": 123,
   "id": "752330d2-ed1a-45fd-8a27-c7ffa25492f5",
   "metadata": {},
   "outputs": [],
   "source": [
    "def get_interaction_matrix(df):\n",
    "    \n",
    "    row = df['machine'].apply(lambda x: machine_to_index_mapping[x]).values\n",
    "    col = df['risks'].apply(lambda x: risk_to_index_mapping[x]).values\n",
    "    value = df['count'].values\n",
    "    \n",
    "    return coo_matrix((value, (row, col)), shape = (len(machine_to_index_mapping), len(risk_to_index_mapping)))"
   ]
  },
  {
   "cell_type": "code",
   "execution_count": 124,
   "id": "2314fb33-178c-4b55-84ee-ef57e607007a",
   "metadata": {},
   "outputs": [],
   "source": [
    "interaction_matrix = get_interaction_matrix(new_dff)"
   ]
  },
  {
   "cell_type": "code",
   "execution_count": 125,
   "id": "d0a48463-4906-4892-bf39-e7148101b1cd",
   "metadata": {},
   "outputs": [
    {
     "data": {
      "text/plain": [
       "(26, 11)"
      ]
     },
     "execution_count": 125,
     "metadata": {},
     "output_type": "execute_result"
    }
   ],
   "source": [
    "interaction_matrix.shape"
   ]
  },
  {
   "cell_type": "markdown",
   "id": "266aa024-96fc-4529-b2f5-152fd60b04fc",
   "metadata": {
    "tags": []
   },
   "source": [
    "### Split dataset into train and validation datasets"
   ]
  },
  {
   "cell_type": "code",
   "execution_count": 126,
   "id": "5ba8f317-128f-4b97-8d34-2ce602b7f04f",
   "metadata": {},
   "outputs": [],
   "source": [
    "def train_test_split(ratings, split_count, fraction):\n",
    "    ratings = ratings.tocsr()\n",
    "    train = ratings.copy().tocoo()\n",
    "    test = lil_matrix(train.shape)\n",
    "    \n",
    "    if fraction:\n",
    "        try:\n",
    "            user_index = np.random.choice(\n",
    "                np.where(np.bincount(train.row) >= split_count * 2)[0], \n",
    "                replace=False,\n",
    "                size=np.int32(np.floor(fraction * train.shape[0]))\n",
    "            ).tolist()\n",
    "        except:\n",
    "            print((f'Not enough users with > {split_count * 2} '+\n",
    "                    f'interactions for fraction of {fraction}'))\n",
    "            raise\n",
    "    else:\n",
    "        user_index = range(train.shape[0])\n",
    "        \n",
    "    train = train.tolil()\n",
    "\n",
    "    for user in user_index:\n",
    "        test_ratings = np.random.choice(ratings.getrow(user).indices, \n",
    "                                        size=split_count, \n",
    "                                        replace=False)\n",
    "        \n",
    "        train[user, test_ratings] = 0.\n",
    "\n",
    "        test[user, test_ratings] = ratings[user, test_ratings]\n",
    "   \n",
    "    assert(train.multiply(test).nnz == 0)\n",
    "    return train.tocsr(), test.tocsr()"
   ]
  },
  {
   "cell_type": "code",
   "execution_count": 127,
   "id": "f9feec7f-b7f4-47e0-a687-c84de26f589e",
   "metadata": {},
   "outputs": [],
   "source": [
    "rows_len = [len(row) for row in interaction_matrix.tolil().rows]"
   ]
  },
  {
   "cell_type": "code",
   "execution_count": 128,
   "id": "f5692bd6-0071-4878-b35d-98ad8da15213",
   "metadata": {},
   "outputs": [
    {
     "name": "stdout",
     "output_type": "stream",
     "text": [
      "5.423076923076923 risks per machine\n"
     ]
    }
   ],
   "source": [
    "rows_mean = np.mean(np.array(rows_len))\n",
    "print(f'{rows_mean} risks per machine')"
   ]
  },
  {
   "cell_type": "code",
   "execution_count": 129,
   "id": "1d408646-d9a7-4cb9-ae19-eae57c47a80f",
   "metadata": {},
   "outputs": [],
   "source": [
    "train, test = train_test_split(interaction_matrix, 1, fraction=0.2)"
   ]
  },
  {
   "cell_type": "markdown",
   "id": "8294a16d-b160-4b3e-b20a-fb774111942b",
   "metadata": {
    "tags": []
   },
   "source": [
    "### Optimizing Hyperparameters"
   ]
  },
  {
   "cell_type": "code",
   "execution_count": 130,
   "id": "b0db5ce9-2253-4d7f-bd24-49544500cdc6",
   "metadata": {},
   "outputs": [],
   "source": [
    "def objective_wsideinfo(params):\n",
    "    # unpack\n",
    "    epochs, learning_rate,\\\n",
    "    no_components, item_alpha,\\\n",
    "    scale = params\n",
    "    \n",
    "    user_alpha = item_alpha * scale\n",
    "    model = LightFM(loss='warp',\n",
    "                    random_state=2020,\n",
    "                    learning_rate=learning_rate,\n",
    "                    no_components=no_components,\n",
    "                    user_alpha=user_alpha,\n",
    "                    item_alpha=item_alpha)\n",
    "    model.fit(train, epochs=epochs,\n",
    "              num_threads=4, verbose=False)\n",
    "    \n",
    "    patks = precision_at_k(model, test,\n",
    "                          train_interactions=None,\n",
    "                          k=5, num_threads=3)\n",
    "    mapatk = np.mean(patks)\n",
    "    # Make negative because we want to _minimize_ objective\n",
    "    out = -mapatk\n",
    "    # Weird shit going on\n",
    "    if np.abs(out + 1) < 0.01 or out < -1.0:\n",
    "        return 0.0\n",
    "    else:\n",
    "        return out"
   ]
  },
  {
   "cell_type": "code",
   "execution_count": 131,
   "id": "f1436083-8489-467e-95cc-d0e403d9856d",
   "metadata": {
    "scrolled": true
   },
   "outputs": [],
   "source": [
    "space = [(1, 200), # epochs\n",
    "         (10**-4, 1.0, 'log-uniform'), # learning_rate\n",
    "         (2, 100), # no_components\n",
    "         (10**-6, 10**-3, 'log-uniform'), # alpha\n",
    "         (0.001, 1., 'log-uniform') # user_scaling\n",
    "        ]\n",
    "\n",
    "res_fm = forest_minimize(objective_wsideinfo, space, n_calls=100,\n",
    "                         random_state=0,\n",
    "                         verbose=False)"
   ]
  },
  {
   "cell_type": "code",
   "execution_count": 132,
   "id": "2cb07b33-252c-4c6b-a23d-6e9f26959639",
   "metadata": {},
   "outputs": [
    {
     "name": "stdout",
     "output_type": "stream",
     "text": [
      "Maximum p@k found: 0.16000\n",
      "Optimal parameters:\n",
      "epochs: 164\n",
      "learning_rate: 0.0005563260205698556\n",
      "no_components: 57\n",
      "alpha: 4.463248454508345e-06\n",
      "scaling: 0.0025448050634013252\n"
     ]
    }
   ],
   "source": [
    "print('Maximum p@k found: {:6.5f}'.format(-res_fm.fun))\n",
    "print('Optimal parameters:')\n",
    "params = ['epochs', 'learning_rate', 'no_components', 'alpha', 'scaling']\n",
    "for (p, x_) in zip(params, res_fm.x):\n",
    "    if p == 'epochs':\n",
    "        optimal_epochs = x_\n",
    "    print('{}: {}'.format(p, x_))\n",
    "    \n",
    "# 0.11972"
   ]
  },
  {
   "cell_type": "markdown",
   "id": "10bb9aec-6b72-412c-b734-d67af72bd3c2",
   "metadata": {},
   "source": [
    "### Create model with optimal hyperparameters for the whole dataset"
   ]
  },
  {
   "cell_type": "code",
   "execution_count": 133,
   "id": "516cec7d-be3d-43e9-b978-f0d398d6173b",
   "metadata": {},
   "outputs": [],
   "source": [
    "epochs, learning_rate,\\\n",
    "no_components, item_alpha,\\\n",
    "scale = res_fm.x\n",
    "\n",
    "user_alpha = item_alpha * scale\n",
    "\n",
    "model = LightFM(loss='warp',\n",
    "                random_state=2020,\n",
    "                learning_rate=learning_rate,\n",
    "                no_components=no_components,\n",
    "                user_alpha=user_alpha,\n",
    "                item_alpha=item_alpha)"
   ]
  },
  {
   "cell_type": "code",
   "execution_count": 134,
   "id": "eb8c65a3-4854-48a0-ae5c-4b2ffe3f94bd",
   "metadata": {},
   "outputs": [
    {
     "name": "stdout",
     "output_type": "stream",
     "text": [
      "time taken for retraining = 0.08 seconds\n"
     ]
    }
   ],
   "source": [
    "start = time.time()\n",
    "\n",
    "model.fit(interaction_matrix,\n",
    "          epochs=epochs,\n",
    "          num_threads=4)\n",
    "\n",
    "end = time.time()\n",
    "print(\"time taken for retraining = {0:.{1}f} seconds\".format(end - start, 2))"
   ]
  },
  {
   "cell_type": "markdown",
   "id": "ca75ccd6-37d2-4d77-8972-67769b3ce2f7",
   "metadata": {},
   "source": [
    "### Get Recommendations"
   ]
  },
  {
   "cell_type": "code",
   "execution_count": 214,
   "id": "9be296a2-1084-4a69-a729-4c6395d4c69f",
   "metadata": {},
   "outputs": [],
   "source": [
    "def recommendations_by_machine(machine, k=3, print_recommendations=False):\n",
    "        \n",
    "    machine_idx = machine_to_index_mapping.get(machine, None)\n",
    "\n",
    "    if machine_idx is None:\n",
    "        return None\n",
    "    \n",
    "    risks = np.array(list(risk_to_index_mapping.keys()))\n",
    "    \n",
    "    known_positive_indices = interaction_matrix.tocsr()[machine_idx].indices\n",
    "    \n",
    "    if len(known_positive_indices) == len(risks):\n",
    "        print('Machine has already been classified with all possible risks so there is none to be recommended.')\n",
    "        return []\n",
    "\n",
    "    known_positives = risks[known_positive_indices]\n",
    "\n",
    "    scores = model.predict(user_ids = [machine_idx], item_ids = np.arange(interaction_matrix.shape[1]))\n",
    "\n",
    "    assert(interaction_matrix.shape[1] == len(scores) == len(risks))\n",
    "\n",
    "    scores[known_positive_indices] = np.nan\n",
    "    scores_indices = np.argsort(-scores)\n",
    "\n",
    "    top_risks = risks[scores_indices]\n",
    "\n",
    "    if len(set(known_positives).intersection(set(top_risks[:k]))) > 0:\n",
    "        print(known_positives)\n",
    "        print(top_risks[:k])\n",
    "        print('Recommending items that customer already have. That is a problem.')\n",
    "\n",
    "    if print_recommendations:\n",
    "\n",
    "        print('\\n--------------\\n')\n",
    "        print(f'Machine {machine}')\n",
    "        print('Known positives:')\n",
    "\n",
    "        for x in known_positives:\n",
    "            print(f'\\t{x}')\n",
    "\n",
    "\n",
    "        print('Recommended:')\n",
    "\n",
    "        for x in top_risks[:k]:\n",
    "            print(f'\\t{x}')\n",
    "\n",
    "    recommendations = []\n",
    "\n",
    "    for rank, recommendation in enumerate(top_risks[:k]):\n",
    "        recommendation_dict = {\n",
    "        'machine': machine,\n",
    "        'recommended_risk_to_consider': recommendation,\n",
    "        'rank': rank + 1\n",
    "        }\n",
    "        recommendations.append(recommendation_dict)\n",
    "\n",
    "    return recommendations"
   ]
  },
  {
   "cell_type": "code",
   "execution_count": 215,
   "id": "d0a16d79-e174-47b0-8f81-a8c082e128c8",
   "metadata": {},
   "outputs": [
    {
     "data": {
      "text/plain": [
       "'R'"
      ]
     },
     "execution_count": 215,
     "metadata": {},
     "output_type": "execute_result"
    }
   ],
   "source": [
    "machine_to_recommend = random.choice(machines)\n",
    "machine_to_recommend"
   ]
  },
  {
   "cell_type": "code",
   "execution_count": 216,
   "id": "9fcb4dcc-31ce-4df7-8cb3-52fe3fe5e9c5",
   "metadata": {},
   "outputs": [
    {
     "data": {
      "text/plain": [
       "[{'machine': 'R', 'recommended_risk_to_consider': 'mango', 'rank': 1},\n",
       " {'machine': 'R', 'recommended_risk_to_consider': 'lime', 'rank': 2},\n",
       " {'machine': 'R', 'recommended_risk_to_consider': 'apple', 'rank': 3}]"
      ]
     },
     "execution_count": 216,
     "metadata": {},
     "output_type": "execute_result"
    }
   ],
   "source": [
    "recommendations_by_machine(machine_to_recommend)"
   ]
  },
  {
   "cell_type": "code",
   "execution_count": 217,
   "id": "7e7ceeb0-23b1-4b75-88c3-0f93612c050b",
   "metadata": {},
   "outputs": [
    {
     "name": "stdout",
     "output_type": "stream",
     "text": [
      "\n",
      "--------------\n",
      "\n",
      "Machine A\n",
      "Known positives:\n",
      "\tapple\n",
      "\tkiwi\n",
      "\tlemon\n",
      "\tlime\n",
      "\tmango\n",
      "\torange\n",
      "\tstrawberry\n",
      "Recommended:\n",
      "\tpineapple\n",
      "\tbanana\n",
      "\tpeach\n",
      "\n",
      "--------------\n",
      "\n",
      "Machine B\n",
      "Known positives:\n",
      "\tkiwi\n",
      "\tlime\n",
      "\tbanana\n",
      "\tgrape\n",
      "\tpineapple\n",
      "Recommended:\n",
      "\tmango\n",
      "\torange\n",
      "\tstrawberry\n",
      "\n",
      "--------------\n",
      "\n",
      "Machine C\n",
      "Known positives:\n",
      "\tlime\n",
      "\tmango\n",
      "\torange\n",
      "\tbanana\n",
      "\tgrape\n",
      "\tpineapple\n",
      "\tpeach\n",
      "Recommended:\n",
      "\tkiwi\n",
      "\tstrawberry\n",
      "\tapple\n",
      "\n",
      "--------------\n",
      "\n",
      "Machine D\n",
      "Known positives:\n",
      "\tapple\n",
      "\tkiwi\n",
      "\tlime\n",
      "\tmango\n",
      "\torange\n",
      "\tstrawberry\n",
      "\tbanana\n",
      "\tpineapple\n",
      "Recommended:\n",
      "\tgrape\n",
      "\tpeach\n",
      "\tlemon\n",
      "\n",
      "--------------\n",
      "\n",
      "Machine E\n",
      "Known positives:\n",
      "\tlime\n",
      "\tmango\n",
      "\tpeach\n",
      "Recommended:\n",
      "\tkiwi\n",
      "\torange\n",
      "\tpineapple\n",
      "\n",
      "--------------\n",
      "\n",
      "Machine F\n",
      "Known positives:\n",
      "\tapple\n",
      "\tkiwi\n",
      "\tmango\n",
      "\tstrawberry\n",
      "Recommended:\n",
      "\torange\n",
      "\tlime\n",
      "\tpineapple\n",
      "\n",
      "--------------\n",
      "\n",
      "Machine G\n",
      "Known positives:\n",
      "\tapple\n",
      "\tkiwi\n",
      "\tlemon\n",
      "\torange\n",
      "\tstrawberry\n",
      "\tpeach\n",
      "Recommended:\n",
      "\tmango\n",
      "\tlime\n",
      "\tpineapple\n",
      "\n",
      "--------------\n",
      "\n",
      "Machine H\n",
      "Known positives:\n",
      "\tlime\n",
      "\tstrawberry\n",
      "\tpineapple\n",
      "\tpeach\n",
      "Recommended:\n",
      "\tkiwi\n",
      "\tmango\n",
      "\torange\n",
      "\n",
      "--------------\n",
      "\n",
      "Machine I\n",
      "Known positives:\n",
      "\tlime\n",
      "\tbanana\n",
      "Recommended:\n",
      "\tkiwi\n",
      "\tmango\n",
      "\torange\n",
      "\n",
      "--------------\n",
      "\n",
      "Machine J\n",
      "Known positives:\n",
      "\tapple\n",
      "\tkiwi\n",
      "\tlime\n",
      "\torange\n",
      "\tstrawberry\n",
      "\tpineapple\n",
      "\tpeach\n",
      "Recommended:\n",
      "\tmango\n",
      "\tbanana\n",
      "\tgrape\n",
      "\n",
      "--------------\n",
      "\n",
      "Machine K\n",
      "Known positives:\n",
      "\tmango\n",
      "\torange\n",
      "\tpeach\n",
      "Recommended:\n",
      "\tkiwi\n",
      "\tlime\n",
      "\tpineapple\n",
      "\n",
      "--------------\n",
      "\n",
      "Machine L\n",
      "Known positives:\n",
      "\tapple\n",
      "\tkiwi\n",
      "\tlemon\n",
      "\tpineapple\n",
      "Recommended:\n",
      "\tmango\n",
      "\torange\n",
      "\tlime\n",
      "\n",
      "--------------\n",
      "\n",
      "Machine M\n",
      "Known positives:\n",
      "\tkiwi\n",
      "\tmango\n",
      "\torange\n",
      "\tbanana\n",
      "Recommended:\n",
      "\tlime\n",
      "\tpineapple\n",
      "\tstrawberry\n",
      "\n",
      "--------------\n",
      "\n",
      "Machine N\n",
      "Known positives:\n",
      "\tapple\n",
      "\tkiwi\n",
      "\tlemon\n",
      "\tlime\n",
      "\tmango\n",
      "\torange\n",
      "\tstrawberry\n",
      "\tpeach\n",
      "Recommended:\n",
      "\tpineapple\n",
      "\tbanana\n",
      "\tgrape\n",
      "\n",
      "--------------\n",
      "\n",
      "Machine O\n",
      "Known positives:\n",
      "\tapple\n",
      "\tlemon\n",
      "\tmango\n",
      "\torange\n",
      "\tstrawberry\n",
      "\tpeach\n",
      "Recommended:\n",
      "\tkiwi\n",
      "\tlime\n",
      "\tpineapple\n",
      "\n",
      "--------------\n",
      "\n",
      "Machine P\n",
      "Known positives:\n",
      "\tmango\n",
      "\tbanana\n",
      "\tgrape\n",
      "Recommended:\n",
      "\tkiwi\n",
      "\torange\n",
      "\tlime\n",
      "\n",
      "--------------\n",
      "\n",
      "Machine Q\n",
      "Known positives:\n",
      "\tkiwi\n",
      "\tbanana\n",
      "\tgrape\n",
      "Recommended:\n",
      "\tmango\n",
      "\torange\n",
      "\tlime\n",
      "\n",
      "--------------\n",
      "\n",
      "Machine R\n",
      "Known positives:\n",
      "\tkiwi\n",
      "\torange\n",
      "\tstrawberry\n",
      "\tbanana\n",
      "\tgrape\n",
      "\tpineapple\n",
      "Recommended:\n",
      "\tmango\n",
      "\tlime\n",
      "\tapple\n",
      "\n",
      "--------------\n",
      "\n",
      "Machine S\n",
      "Known positives:\n",
      "\tkiwi\n",
      "\tmango\n",
      "\tgrape\n",
      "\tpineapple\n",
      "Recommended:\n",
      "\torange\n",
      "\tlime\n",
      "\tbanana\n",
      "\n",
      "--------------\n",
      "\n",
      "Machine T\n",
      "Known positives:\n",
      "\tlemon\n",
      "\tlime\n",
      "\tmango\n",
      "\tgrape\n",
      "Recommended:\n",
      "\tkiwi\n",
      "\torange\n",
      "\tpineapple\n",
      "Machine has already been classified with all possible risks so there is none to be recommended.\n",
      "\n",
      "--------------\n",
      "\n",
      "Machine V\n",
      "Known positives:\n",
      "\tapple\n",
      "\tkiwi\n",
      "\tmango\n",
      "\tstrawberry\n",
      "\tbanana\n",
      "\tgrape\n",
      "\tpineapple\n",
      "Recommended:\n",
      "\torange\n",
      "\tlime\n",
      "\tpeach\n",
      "\n",
      "--------------\n",
      "\n",
      "Machine W\n",
      "Known positives:\n",
      "\tkiwi\n",
      "\tlime\n",
      "\tbanana\n",
      "\tpineapple\n",
      "Recommended:\n",
      "\tmango\n",
      "\torange\n",
      "\tstrawberry\n",
      "\n",
      "--------------\n",
      "\n",
      "Machine X\n",
      "Known positives:\n",
      "\tapple\n",
      "\tkiwi\n",
      "\tlemon\n",
      "\tbanana\n",
      "\tgrape\n",
      "Recommended:\n",
      "\tmango\n",
      "\torange\n",
      "\tlime\n",
      "\n",
      "--------------\n",
      "\n",
      "Machine Y\n",
      "Known positives:\n",
      "\tapple\n",
      "\tlemon\n",
      "\torange\n",
      "\tstrawberry\n",
      "\tgrape\n",
      "\tpineapple\n",
      "\tpeach\n",
      "Recommended:\n",
      "\tkiwi\n",
      "\tmango\n",
      "\tlime\n",
      "['kiwi' 'lemon' 'lime' 'mango' 'orange' 'banana' 'grape' 'pineapple'\n",
      " 'peach']\n",
      "['strawberry' 'apple' 'kiwi']\n",
      "Recommending items that customer already have. That is a problem.\n",
      "\n",
      "--------------\n",
      "\n",
      "Machine Z\n",
      "Known positives:\n",
      "\tkiwi\n",
      "\tlemon\n",
      "\tlime\n",
      "\tmango\n",
      "\torange\n",
      "\tbanana\n",
      "\tgrape\n",
      "\tpineapple\n",
      "\tpeach\n",
      "Recommended:\n",
      "\tstrawberry\n",
      "\tapple\n",
      "\tkiwi\n"
     ]
    }
   ],
   "source": [
    "all_recommendations = [recommendations_by_machine(machine, k=3, print_recommendations=True) for machine in machines]"
   ]
  },
  {
   "cell_type": "code",
   "execution_count": null,
   "id": "acf0c716-01ac-451e-9a15-aac821649cb6",
   "metadata": {},
   "outputs": [],
   "source": []
  }
 ],
 "metadata": {
  "kernelspec": {
   "display_name": "recommendation",
   "language": "python",
   "name": "recommendation"
  },
  "language_info": {
   "codemirror_mode": {
    "name": "ipython",
    "version": 3
   },
   "file_extension": ".py",
   "mimetype": "text/x-python",
   "name": "python",
   "nbconvert_exporter": "python",
   "pygments_lexer": "ipython3",
   "version": "3.8.2"
  }
 },
 "nbformat": 4,
 "nbformat_minor": 5
}
